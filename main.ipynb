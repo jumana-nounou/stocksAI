{
  "cells": [
    {
      "cell_type": "markdown",
      "metadata": {
        "id": "ZzJh0NHdeTt1"
      },
      "source": [
        "## Imports"
      ]
    },
    {
      "cell_type": "code",
      "execution_count": 1,
      "metadata": {
        "id": "xq2JF1AYYR6i"
      },
      "outputs": [],
      "source": [
        "import pandas as pd\n",
        "import numpy as np\n",
        "from keras.optimizers import Adam\n",
        "\n",
        "import matplotlib.pyplot as plt\n",
        "import tensorflow as tf\n",
        "from tensorflow.keras.models import Sequential\n",
        "from tensorflow.keras.layers import LSTM, Dense, Dropout\n",
        "from sklearn.preprocessing import MinMaxScaler\n",
        "from sklearn.linear_model import LinearRegression\n",
        "from sklearn.ensemble import RandomForestRegressor\n",
        "from sklearn.svm import SVR\n",
        "from sklearn.metrics import accuracy_score, f1_score, precision_score, recall_score\n",
        "from sklearn.model_selection import train_test_split\n",
        "from sklearn.linear_model import LinearRegression, Ridge, Lasso\n",
        "from sklearn.ensemble import RandomForestRegressor\n",
        "from sklearn.metrics import mean_squared_error, r2_score, mean_absolute_error\n",
        "import warnings\n",
        "from sklearn.ensemble import RandomForestClassifier\n",
        "from sklearn.svm import SVC\n",
        "from sklearn.linear_model import LogisticRegression\n",
        "from sklearn.tree import DecisionTreeClassifier\n",
        "\n",
        "warnings.filterwarnings(\"ignore\")  # Ignore warnings for convergence issues\n"
      ]
    },
    {
      "cell_type": "markdown",
      "metadata": {},
      "source": [
        "## Functions"
      ]
    },
    {
      "cell_type": "markdown",
      "metadata": {},
      "source": [
        "Preprocessing functions"
      ]
    },
    {
      "cell_type": "code",
      "execution_count": 2,
      "metadata": {},
      "outputs": [],
      "source": [
        "def convert_time_and_set_index(df, time_column='time'):\n",
        "    df[time_column] = pd.to_datetime(df[time_column], unit='s')\n",
        "    df.set_index(time_column, inplace=True)\n",
        "    return df\n",
        "def add_features(df):\n",
        "    df['price_change'] = df['close'].diff()\n",
        "    # df['price_change_pct'] = df['close'].pct_change() * 100\n",
        "    df['price_spread'] = df['high'] - df['low']\n",
        "    df['price_volatility'] = df[['open', 'high', 'low', 'close']].std(axis=1)\n",
        "    # df['price_momentum'] = df['close'] - df['close'].shift(1)\n",
        "    df['price_trend'] = (df['close'] > df['open']).astype(int)\n",
        "    # df['high_low_ratio'] = df['high'] / df['low']\n",
        "    # df['close_open_ratio'] = df['close'] / df['open']\n",
        "\n",
        "    # Moving Averages\n",
        "    df['close_sma_5'] = df['close'].rolling(window=5).mean()\n",
        "    df['close_sma_10'] = df['close'].rolling(window=10).mean()\n",
        "    df['close_ema_10'] = df['close'].ewm(span=10, min_periods=0, adjust=False).mean()\n",
        "    return df\n",
        "\n",
        "def normalize_data(data):\n",
        "    scaler = MinMaxScaler()\n",
        "    scaled_data = scaler.fit_transform(data)\n",
        "    return scaler, scaled_data\n",
        "\n",
        "def split_data(scaled_data):\n",
        "    X = scaled_data[:, :-1] \n",
        "    y = scaled_data[:, -1]  \n",
        "    return X, y\n",
        "def generate_classification_labels(predicted_prices):\n",
        "    labels = []\n",
        "    for i in range(len(predicted_prices) - 1):\n",
        "        if predicted_prices[i + 1] > predicted_prices[i]:\n",
        "            labels.append(1)  # Buy\n",
        "        else:\n",
        "            labels.append(0)  # Don't Buy\n",
        "    return labels\n"
      ]
    },
    {
      "cell_type": "markdown",
      "metadata": {},
      "source": [
        "Models"
      ]
    },
    {
      "cell_type": "code",
      "execution_count": 3,
      "metadata": {},
      "outputs": [],
      "source": [
        "def train_and_evaluate_linear_regression(X_train, y_train, X_test, y_test):\n",
        "    linear_regression = LinearRegression()\n",
        "    linear_regression.fit(X_train, y_train)\n",
        "    y_pred = linear_regression.predict(X_test)\n",
        "    mse = mean_squared_error(y_test, y_pred)\n",
        "    r2 = r2_score(y_test, y_pred)\n",
        "    mae = mean_absolute_error(y_test, y_pred)\n",
        "    return {\"Mean Squared Error\": mse, \"R-squared\": r2, \"Mean Absolute Error\": mae, \"Model\": linear_regression}\n",
        "\n",
        "\n",
        "def train_and_evaluate_ridge_regression(X_train, y_train, X_test, y_test):\n",
        "    ridge_regression = Ridge(alpha=0.1)\n",
        "    ridge_regression.fit(X_train, y_train)\n",
        "    y_pred = ridge_regression.predict(X_test)\n",
        "    mse = mean_squared_error(y_test, y_pred)\n",
        "    r2 = r2_score(y_test, y_pred)\n",
        "    mae = mean_absolute_error(y_test, y_pred)\n",
        "    return {\"Mean Squared Error\": mse, \"R-squared\": r2, \"Mean Absolute Error\": mae, \"Model\": ridge_regression}\n",
        "\n",
        "\n",
        "def train_and_evaluate_random_forest_regressor(X_train, y_train, X_test, y_test):\n",
        "    random_forest_regressor = RandomForestRegressor(max_depth=20,min_samples_leaf=2,min_samples_split=2,n_estimators=300)\n",
        "    random_forest_regressor.fit(X_train, y_train)\n",
        "    y_pred = random_forest_regressor.predict(X_test)\n",
        "    mse = mean_squared_error(y_test, y_pred)\n",
        "    r2 = r2_score(y_test, y_pred)\n",
        "    mae = mean_absolute_error(y_test, y_pred)\n",
        "    return {\"Mean Squared Error\": mse, \"R-squared\": r2, \"Mean Absolute Error\": mae, \"Model\": random_forest_regressor}\n",
        "\n",
        "\n",
        "def train_and_evaluate_lstm_regression_model(X_train, y_train, X_test, y_test):\n",
        "    lstm_regression_model = Sequential([\n",
        "        LSTM(64, activation='relu', input_shape=(X_train.shape[1], 1), return_sequences=True),\n",
        "        LSTM(64, activation='relu'),\n",
        "        Dense(1)\n",
        "    ])\n",
        "    optimizer = Adam(learning_rate=0.0001)  # Adjust learning rate as needed\n",
        "    lstm_regression_model.compile(optimizer=optimizer, loss='mean_squared_error')\n",
        "    lstm_regression_model.fit(X_train.reshape(X_train.shape[0], X_train.shape[1], 1), y_train, epochs=25, batch_size=32, validation_split=0.2)\n",
        "    y_pred = lstm_regression_model.predict(X_test.reshape(X_test.shape[0], X_test.shape[1], 1))\n",
        "    mse = mean_squared_error(y_test, y_pred)\n",
        "    r2 = r2_score(y_test, y_pred)\n",
        "    mae = mean_absolute_error(y_test, y_pred)\n",
        "    return {\"Mean Squared Error\": mse, \"R-squared\": r2, \"Mean Absolute Error\": mae, \"Model\": lstm_regression_model}\n"
      ]
    },
    {
      "cell_type": "markdown",
      "metadata": {},
      "source": [
        "Strategies"
      ]
    },
    {
      "cell_type": "code",
      "execution_count": 4,
      "metadata": {},
      "outputs": [],
      "source": [
        "def calculate_profit(prices, buy_signals, sell_signals, initial_balance=6000):\n",
        "    balance = initial_balance\n",
        "    shares = 0\n",
        "    last_price = None\n",
        "\n",
        "    for i in range(len(prices)):\n",
        "        if i in buy_signals.index:  # Buy signal\n",
        "            if balance > 0:\n",
        "                shares_to_buy = balance / prices[i]\n",
        "                shares += shares_to_buy\n",
        "                balance -= shares_to_buy * prices[i]\n",
        "        elif i in sell_signals.index:  # Sell signal\n",
        "            if shares > 0:\n",
        "                balance += shares * prices[i]\n",
        "                shares = 0\n",
        "        last_price = prices[i]\n",
        "\n",
        "    # If holding shares at the end, sell them at the last price\n",
        "    if shares > 0:\n",
        "        balance += shares * last_price\n",
        "\n",
        "    return balance - initial_balance\n",
        "\n",
        "\n",
        "    return balance - initial_balance\n",
        "\n",
        "def bollinger_bands_strategy(prices):\n",
        "    prices_series = pd.Series(prices)\n",
        "    \n",
        "    # Calculate the middle band (simple moving average)\n",
        "    middle_band = prices_series.rolling(window=20).mean()\n",
        "    \n",
        "    # Calculate upper and lower bands (middle band +/- 2 standard deviations)\n",
        "    upper_band = middle_band + 2 * prices_series.rolling(window=20).std()\n",
        "    lower_band = middle_band - 2 * prices_series.rolling(window=20).std()\n",
        "    \n",
        "    # Generate signals\n",
        "    buy_signals = prices_series[prices_series < lower_band]\n",
        "    sell_signals = prices_series[prices_series > upper_band]\n",
        "    \n",
        "    return calculate_profit(prices, buy_signals, sell_signals)\n",
        "def rsi_strategy(prices):\n",
        "    # Convert numpy array to pandas Series\n",
        "    prices = pd.Series(prices)\n",
        "    \n",
        "    # Calculate Relative Strength Index (RSI)\n",
        "    delta = prices.diff()\n",
        "    gain = (delta.where(delta > 0, 0)).rolling(window=14).mean()\n",
        "    loss = (-delta.where(delta < 0, 0)).rolling(window=14).mean()\n",
        "    rs = gain / loss\n",
        "    rsi = 100 - (100 / (1 + rs))\n",
        "    \n",
        "    # Generate signals\n",
        "    buy_signals = prices[(rsi < 30) & (rsi.shift(1) > 30)]\n",
        "    sell_signals = prices[(rsi > 70) & (rsi.shift(1) < 70)]\n",
        "    \n",
        "    return calculate_profit(prices, buy_signals, sell_signals)\n",
        "\n"
      ]
    },
    {
      "cell_type": "code",
      "execution_count": 5,
      "metadata": {},
      "outputs": [],
      "source": [
        "def generate_labels(data):\n",
        "    labels = []\n",
        "    for i in range(len(data) - 1):\n",
        "        if data[i + 1] > data[i]:\n",
        "            labels.append(1)  # Buy\n",
        "        else:\n",
        "            labels.append(0)  # Sell\n",
        "    return labels\n",
        "def generate_signals(df, short_ma='Short_MA', long_ma='Long_MA'):\n",
        "    df['Signal'] = 0\n",
        "    df['Signal'] = np.where(df[short_ma] > df[long_ma], 1, 0)\n",
        "    df['Position'] = df['Signal'].diff()\n",
        "    return df\n",
        "def train_classification_model(X_train, y_train):\n",
        "    classification_model = Sequential([\n",
        "        LSTM(50, return_sequences=True, input_shape=(X_train.shape[1], 1)),\n",
        "        LSTM(50),\n",
        "        Dropout(0.2),\n",
        "        Dense(25),\n",
        "        Dense(1, activation='sigmoid')\n",
        "    ])\n",
        "    classification_model.compile(optimizer='adam', loss='binary_crossentropy', metrics=['accuracy'])\n",
        "    classification_model.fit(X_train, y_train, epochs=50, batch_size=16, validation_split=0.2)\n",
        "    return classification_model"
      ]
    },
    {
      "cell_type": "markdown",
      "metadata": {
        "id": "5BM0EfNJma2B"
      },
      "source": [
        "## Data Loading"
      ]
    },
    {
      "cell_type": "code",
      "execution_count": 6,
      "metadata": {
        "id": "czGw1NZOmeoO"
      },
      "outputs": [],
      "source": [
        "stock1 = pd.read_csv('data/EGX_DLY_COMI, 1D.csv')\n",
        "stock2 = pd.read_csv('data/EGX_DLY_EGX30, 1D.csv')\n",
        "stock3 = pd.read_csv('data/EGX_DLY_EMFD, 1D.csv')\n",
        "stock4 = pd.read_csv('data/EGX_DLY_ISPH, 1D.csv')\n",
        "\n"
      ]
    },
    {
      "cell_type": "markdown",
      "metadata": {
        "id": "xZaQStPamfwD"
      },
      "source": [
        "## Data Visualization"
      ]
    },
    {
      "cell_type": "code",
      "execution_count": 7,
      "metadata": {
        "id": "kpzrXVM2miZU"
      },
      "outputs": [
        {
          "data": {
            "image/png": "[encoded data removed]",
            "text/plain": [
              "<Figure size 1200x600 with 1 Axes>"
            ]
          },
          "metadata": {},
          "output_type": "display_data"
        }
      ],
      "source": [
        "\n",
        "plt.figure(figsize=(12, 6))\n",
        "plt.plot(stock1['close'], label='Close Price')\n",
        "plt.plot(stock1['open'], label='Open Price')\n",
        "\n",
        "plt.title('Stock Closing Prices Over Time')\n",
        "plt.xlabel('Date')\n",
        "plt.ylabel('Price')\n",
        "plt.legend()\n",
        "plt.show()\n"
      ]
    },
    {
      "cell_type": "code",
      "execution_count": 8,
      "metadata": {},
      "outputs": [
        {
          "data": {
            "image/png": "[encoded data removed]",
            "text/plain": [
              "<Figure size 1200x600 with 1 Axes>"
            ]
          },
          "metadata": {},
          "output_type": "display_data"
        }
      ],
      "source": [
        "stock1['Short_MA'] = stock1['close'].rolling(window=40).mean()\n",
        "stock1['Long_MA'] = stock1['close'].rolling(window=100).mean()\n",
        "\n",
        "\n",
        "plt.figure(figsize=(12,6))\n",
        "plt.grid(True)\n",
        "plt.plot(stock1['close'],label='Close Price')\n",
        "plt.plot(stock1['Short_MA'], label='Short Moving Average')\n",
        "plt.plot(stock1['Long_MA'], label='Long Moving Average')\n",
        "plt.legend(loc=2)\n",
        "plt.show()"
      ]
    },
    {
      "cell_type": "markdown",
      "metadata": {},
      "source": [
        "## Model"
      ]
    },
    {
      "cell_type": "markdown",
      "metadata": {},
      "source": [
        "Choose the best Model for price prediction"
      ]
    },
    {
      "cell_type": "code",
      "execution_count": 9,
      "metadata": {},
      "outputs": [
        {
          "name": "stdout",
          "output_type": "stream",
          "text": [
            "                         open      high       low     close  Short_MA  Long_MA\n",
            "time                                                                          \n",
            "2001-05-15 07:00:00  0.839019  0.839019  0.827202  0.831220       NaN      NaN\n",
            "2001-05-16 07:00:00  0.827202  0.836419  0.823184  0.826020       NaN      NaN\n",
            "2001-05-17 07:00:00  0.827202  0.827202  0.820111  0.824366       NaN      NaN\n",
            "2001-05-20 07:00:00  0.815621  0.821293  0.815385  0.816566       NaN      NaN\n",
            "2001-05-21 07:00:00  0.813257  0.850836  0.809476  0.831456       NaN      NaN\n",
            "Epoch 1/25\n",
            "\u001b[1m95/95\u001b[0m \u001b[32m━━━━━━━━━━━━━━━━━━━━\u001b[0m\u001b[37m\u001b[0m \u001b[1m4s\u001b[0m 12ms/step - loss: 0.0614 - val_loss: 0.0301\n",
            "Epoch 2/25\n",
            "\u001b[1m95/95\u001b[0m \u001b[32m━━━━━━━━━━━━━━━━━━━━\u001b[0m\u001b[37m\u001b[0m \u001b[1m1s\u001b[0m 11ms/step - loss: 0.0197 - val_loss: 0.0030\n",
            "Epoch 3/25\n",
            "\u001b[1m95/95\u001b[0m \u001b[32m━━━━━━━━━━━━━━━━━━━━\u001b[0m\u001b[37m\u001b[0m \u001b[1m1s\u001b[0m 13ms/step - loss: 0.0024 - val_loss: 0.0013\n",
            "Epoch 4/25\n",
            "\u001b[1m95/95\u001b[0m \u001b[32m━━━━━━━━━━━━━━━━━━━━\u001b[0m\u001b[37m\u001b[0m \u001b[1m1s\u001b[0m 14ms/step - loss: 0.0014 - val_loss: 0.0011\n",
            "Epoch 5/25\n",
            "\u001b[1m95/95\u001b[0m \u001b[32m━━━━━━━━━━━━━━━━━━━━\u001b[0m\u001b[37m\u001b[0m \u001b[1m2s\u001b[0m 15ms/step - loss: 0.0010 - val_loss: 8.6217e-04\n",
            "Epoch 6/25\n",
            "\u001b[1m95/95\u001b[0m \u001b[32m━━━━━━━━━━━━━━━━━━━━\u001b[0m\u001b[37m\u001b[0m \u001b[1m1s\u001b[0m 13ms/step - loss: 7.7678e-04 - val_loss: 7.4119e-04\n",
            "Epoch 7/25\n",
            "\u001b[1m95/95\u001b[0m \u001b[32m━━━━━━━━━━━━━━━━━━━━\u001b[0m\u001b[37m\u001b[0m \u001b[1m1s\u001b[0m 13ms/step - loss: 6.2909e-04 - val_loss: 5.1717e-04\n",
            "Epoch 8/25\n",
            "\u001b[1m95/95\u001b[0m \u001b[32m━━━━━━━━━━━━━━━━━━━━\u001b[0m\u001b[37m\u001b[0m \u001b[1m1s\u001b[0m 13ms/step - loss: 4.5542e-04 - val_loss: 3.6668e-04\n",
            "Epoch 9/25\n",
            "\u001b[1m95/95\u001b[0m \u001b[32m━━━━━━━━━━━━━━━━━━━━\u001b[0m\u001b[37m\u001b[0m \u001b[1m2s\u001b[0m 17ms/step - loss: 3.0118e-04 - val_loss: 2.6004e-04\n",
            "Epoch 10/25\n",
            "\u001b[1m95/95\u001b[0m \u001b[32m━━━━━━━━━━━━━━━━━━━━\u001b[0m\u001b[37m\u001b[0m \u001b[1m1s\u001b[0m 15ms/step - loss: 2.1184e-04 - val_loss: 2.1781e-04\n",
            "Epoch 11/25\n",
            "\u001b[1m95/95\u001b[0m \u001b[32m━━━━━━━━━━━━━━━━━━━━\u001b[0m\u001b[37m\u001b[0m \u001b[1m1s\u001b[0m 11ms/step - loss: 1.5002e-04 - val_loss: 2.2336e-04\n",
            "Epoch 12/25\n",
            "\u001b[1m95/95\u001b[0m \u001b[32m━━━━━━━━━━━━━━━━━━━━\u001b[0m\u001b[37m\u001b[0m \u001b[1m1s\u001b[0m 15ms/step - loss: 1.0226e-04 - val_loss: 1.2693e-04\n",
            "Epoch 13/25\n",
            "\u001b[1m95/95\u001b[0m \u001b[32m━━━━━━━━━━━━━━━━━━━━\u001b[0m\u001b[37m\u001b[0m \u001b[1m1s\u001b[0m 13ms/step - loss: 9.5799e-05 - val_loss: 1.0205e-04\n",
            "Epoch 14/25\n",
            "\u001b[1m95/95\u001b[0m \u001b[32m━━━━━━━━━━━━━━━━━━━━\u001b[0m\u001b[37m\u001b[0m \u001b[1m1s\u001b[0m 15ms/step - loss: 8.6312e-05 - val_loss: 8.7723e-05\n",
            "Epoch 15/25\n",
            "\u001b[1m95/95\u001b[0m \u001b[32m━━━━━━━━━━━━━━━━━━━━\u001b[0m\u001b[37m\u001b[0m \u001b[1m1s\u001b[0m 14ms/step - loss: 5.3618e-05 - val_loss: 8.0432e-05\n",
            "Epoch 16/25\n",
            "\u001b[1m95/95\u001b[0m \u001b[32m━━━━━━━━━━━━━━━━━━━━\u001b[0m\u001b[37m\u001b[0m \u001b[1m2s\u001b[0m 17ms/step - loss: 5.8810e-05 - val_loss: 6.5932e-05\n",
            "Epoch 17/25\n",
            "\u001b[1m95/95\u001b[0m \u001b[32m━━━━━━━━━━━━━━━━━━━━\u001b[0m\u001b[37m\u001b[0m \u001b[1m1s\u001b[0m 12ms/step - loss: 4.4201e-05 - val_loss: 6.2712e-05\n",
            "Epoch 18/25\n",
            "\u001b[1m95/95\u001b[0m \u001b[32m━━━━━━━━━━━━━━━━━━━━\u001b[0m\u001b[37m\u001b[0m \u001b[1m2s\u001b[0m 16ms/step - loss: 4.8307e-05 - val_loss: 5.9333e-05\n",
            "Epoch 19/25\n",
            "\u001b[1m95/95\u001b[0m \u001b[32m━━━━━━━━━━━━━━━━━━━━\u001b[0m\u001b[37m\u001b[0m \u001b[1m2s\u001b[0m 17ms/step - loss: 4.2006e-05 - val_loss: 5.1909e-05\n",
            "Epoch 20/25\n",
            "\u001b[1m95/95\u001b[0m \u001b[32m━━━━━━━━━━━━━━━━━━━━\u001b[0m\u001b[37m\u001b[0m \u001b[1m2s\u001b[0m 16ms/step - loss: 3.3287e-05 - val_loss: 6.1403e-05\n",
            "Epoch 21/25\n",
            "\u001b[1m95/95\u001b[0m \u001b[32m━━━━━━━━━━━━━━━━━━━━\u001b[0m\u001b[37m\u001b[0m \u001b[1m2s\u001b[0m 16ms/step - loss: 4.3912e-05 - val_loss: 5.3790e-05\n",
            "Epoch 22/25\n",
            "\u001b[1m95/95\u001b[0m \u001b[32m━━━━━━━━━━━━━━━━━━━━\u001b[0m\u001b[37m\u001b[0m \u001b[1m2s\u001b[0m 16ms/step - loss: 3.9884e-05 - val_loss: 8.0843e-05\n",
            "Epoch 23/25\n",
            "\u001b[1m95/95\u001b[0m \u001b[32m━━━━━━━━━━━━━━━━━━━━\u001b[0m\u001b[37m\u001b[0m \u001b[1m1s\u001b[0m 15ms/step - loss: 3.9439e-05 - val_loss: 4.5075e-05\n",
            "Epoch 24/25\n",
            "\u001b[1m95/95\u001b[0m \u001b[32m━━━━━━━━━━━━━━━━━━━━\u001b[0m\u001b[37m\u001b[0m \u001b[1m2s\u001b[0m 16ms/step - loss: 3.7903e-05 - val_loss: 5.3381e-05\n",
            "Epoch 25/25\n",
            "\u001b[1m95/95\u001b[0m \u001b[32m━━━━━━━━━━━━━━━━━━━━\u001b[0m\u001b[37m\u001b[0m \u001b[1m1s\u001b[0m 13ms/step - loss: 4.4653e-05 - val_loss: 4.9349e-05\n",
            "\u001b[1m51/51\u001b[0m \u001b[32m━━━━━━━━━━━━━━━━━━━━\u001b[0m\u001b[37m\u001b[0m \u001b[1m1s\u001b[0m 15ms/step\n",
            "Results for Linear Regression:\n",
            "{'Mean Squared Error': 6.488858215335974e-07, 'R-squared': 0.9999832181349783, 'Mean Absolute Error': 0.00042246607724943474, 'Model': LinearRegression()}\n",
            "Results for Ridge Regression:\n",
            "{'Mean Squared Error': 2.0331620010967854e-06, 'R-squared': 0.9999474171739657, 'Mean Absolute Error': 0.0007624569877676869, 'Model': Ridge(alpha=0.1)}\n",
            "Results for RandomForestRegressor:\n",
            "{'Mean Squared Error': 1.832482548849147e-06, 'R-squared': 0.9999526072634523, 'Mean Absolute Error': 0.0006648597248916803, 'Model': RandomForestRegressor(max_depth=20, min_samples_leaf=2, n_estimators=300)}\n",
            "Results for LSTM Regression:\n",
            "{'Mean Squared Error': 3.155748047728334e-05, 'R-squared': 0.999183841963837, 'Mean Absolute Error': 0.0031683889941053435, 'Model': <Sequential name=sequential, built=True>}\n"
          ]
        }
      ],
      "source": [
        "data = stock1\n",
        "\n",
        "data=convert_time_and_set_index(data)\n",
        "print(data.head())\n",
        "data=add_features(data)\n",
        "data.dropna(inplace=True)\n",
        "scaler, scaled_data = normalize_data(data.values)\n",
        "\n",
        "X, y = split_data(scaled_data)\n",
        "\n",
        "X_train, X_test, y_train, y_test = train_test_split(X, y, test_size=0.3, random_state=42)\n",
        "\n",
        "linear_regression_res = train_and_evaluate_linear_regression(X_train, y_train, X_test, y_test)\n",
        "ridge_regression_res = train_and_evaluate_ridge_regression(X_train, y_train, X_test, y_test)\n",
        "random_forest_regressor_res = train_and_evaluate_random_forest_regressor(X_train, y_train, X_test, y_test)\n",
        "lstm_regression_model_res = train_and_evaluate_lstm_regression_model(X_train, y_train, X_test, y_test)\n",
        "\n",
        "print(\"Results for Linear Regression:\")\n",
        "print(linear_regression_res)\n",
        "print(\"Results for Ridge Regression:\")\n",
        "print(ridge_regression_res)\n",
        "print(\"Results for RandomForestRegressor:\")\n",
        "print(random_forest_regressor_res)\n",
        "print(\"Results for LSTM Regression:\")\n",
        "print(lstm_regression_model_res)\n"
      ]
    },
    {
      "cell_type": "markdown",
      "metadata": {},
      "source": [
        "Choose the best Model for Classification "
      ]
    },
    {
      "cell_type": "code",
      "execution_count": 10,
      "metadata": {},
      "outputs": [
        {
          "ename": "NameError",
          "evalue": "name 'hjfdskjnasxhbfedon' is not defined",
          "output_type": "error",
          "traceback": [
            "\u001b[1;31m---------------------------------------------------------------------------\u001b[0m",
            "\u001b[1;31mNameError\u001b[0m                                 Traceback (most recent call last)",
            "Cell \u001b[1;32mIn[10], line 1\u001b[0m\n\u001b[1;32m----> 1\u001b[0m hjfdskjnasxhbfedon\n\u001b[0;32m      5\u001b[0m lstm_predictions_scaled \u001b[38;5;241m=\u001b[39m lstm_regression_model_res[\u001b[38;5;124m\"\u001b[39m\u001b[38;5;124mModel\u001b[39m\u001b[38;5;124m\"\u001b[39m]\u001b[38;5;241m.\u001b[39mpredict(X_test\u001b[38;5;241m.\u001b[39mreshape(X_test\u001b[38;5;241m.\u001b[39mshape[\u001b[38;5;241m0\u001b[39m], X_test\u001b[38;5;241m.\u001b[39mshape[\u001b[38;5;241m1\u001b[39m], \u001b[38;5;241m1\u001b[39m))\n\u001b[0;32m      6\u001b[0m predicted_prices \u001b[38;5;241m=\u001b[39m scaler\u001b[38;5;241m.\u001b[39minverse_transform(np\u001b[38;5;241m.\u001b[39mconcatenate((X_test, lstm_predictions_scaled), axis\u001b[38;5;241m=\u001b[39m\u001b[38;5;241m1\u001b[39m))[:, \u001b[38;5;241m-\u001b[39m\u001b[38;5;241m1\u001b[39m]\n",
            "\u001b[1;31mNameError\u001b[0m: name 'hjfdskjnasxhbfedon' is not defined"
          ]
        }
      ],
      "source": [
        "hjfdskjnasxhbfedon\n",
        "\n",
        "\n",
        "\n",
        "lstm_predictions_scaled = lstm_regression_model_res[\"Model\"].predict(X_test.reshape(X_test.shape[0], X_test.shape[1], 1))\n",
        "predicted_prices = scaler.inverse_transform(np.concatenate((X_test, lstm_predictions_scaled), axis=1))[:, -1]\n",
        "\n",
        "\n",
        "classification_labels = generate_classification_labels(predicted_prices)\n",
        "\n",
        "X_test_with_predictions = np.concatenate((X_test, lstm_predictions_scaled), axis=1)[:-1]\n",
        "\n",
        "X_train_class, X_test_class, y_train_class, y_test_class = train_test_split(X_test_with_predictions, classification_labels, test_size=0.2, random_state=42)\n",
        "\n",
        "classification_results = {}\n",
        "\n",
        "classifiers = {\n",
        "    \"Random Forest Classifier\": RandomForestClassifier(),\n",
        "    \"Support Vector Classifier\": SVC(),\n",
        "    \"Logistic Regression\": LogisticRegression(),\n",
        "    \"Decision Tree Classifier\": DecisionTreeClassifier()\n",
        "}\n",
        "\n",
        "for name, classifier in classifiers.items():\n",
        "    classifier.fit(X_train_class, y_train_class)\n",
        "    predicted_classes = classifier.predict(X_test_class)\n",
        "    accuracy = accuracy_score(y_test_class, predicted_classes)\n",
        "    precision = precision_score(y_test_class, predicted_classes)\n",
        "    recall = recall_score(y_test_class, predicted_classes)\n",
        "    f1 = f1_score(y_test_class, predicted_classes)\n",
        "    \n",
        "    classification_results[name] = {\n",
        "        \"Accuracy\": accuracy,\n",
        "        \"Precision\": precision,\n",
        "        \"Recall\": recall,\n",
        "        \"F1 Score\": f1\n",
        "    }\n",
        "\n",
        "# Print results\n",
        "for name, result in classification_results.items():\n",
        "    print(f\"Results for {name}:\")\n",
        "    print(result)\n"
      ]
    },
    {
      "cell_type": "markdown",
      "metadata": {},
      "source": [
        "## Calculating Profits based on different strategies"
      ]
    },
    {
      "cell_type": "markdown",
      "metadata": {},
      "source": [
        "Stock 1: This dataset presents remarkable profits "
      ]
    },
    {
      "cell_type": "code",
      "execution_count": 11,
      "metadata": {},
      "outputs": [
        {
          "name": "stdout",
          "output_type": "stream",
          "text": [
            "\u001b[1m51/51\u001b[0m \u001b[32m━━━━━━━━━━━━━━━━━━━━\u001b[0m\u001b[37m\u001b[0m \u001b[1m0s\u001b[0m 3ms/step\n",
            "RSI strategy Profit: 0\n",
            "Bollinger Bands strategy Profit: 0\n"
          ]
        }
      ],
      "source": [
        "lstm_predictions_scaled = lstm_regression_model_res[\"Model\"].predict(X_test.reshape(X_test.shape[0], X_test.shape[1], 1))\n",
        "num_features = X_test.shape[1] + 1  \n",
        "scaler = MinMaxScaler()\n",
        "scaler.fit(np.concatenate((X_train[:, :-1], y_train.reshape(-1, 1)), axis=1))\n",
        "predicted_prices_scaled = np.concatenate((X_test[:, :-1], lstm_predictions_scaled), axis=1)\n",
        "predicted_prices = scaler.inverse_transform(predicted_prices_scaled)[:, -1]\n",
        "predicted_prices = np.maximum(predicted_prices, 0)\n",
        "predicted_prices_df = pd.DataFrame(predicted_prices, columns=['Predicted_Price'])\n",
        "predicted_prices_df['Short_MA'] = predicted_prices_df['Predicted_Price'].rolling(window=5).mean()\n",
        "predicted_prices_df['Long_MA'] = predicted_prices_df['Predicted_Price'].rolling(window=20).mean()\n",
        "predicted_prices_df.dropna(inplace=True)\n",
        "# print(predicted_prices_df.head())\n",
        "\n",
        "print(\"RSI strategy Profit:\",rsi_strategy(predicted_prices))\n",
        "print(\"Bollinger Bands strategy Profit:\",bollinger_bands_strategy(predicted_prices))\n"
      ]
    },
    {
      "cell_type": "code",
      "execution_count": 12,
      "metadata": {},
      "outputs": [
        {
          "name": "stdout",
          "output_type": "stream",
          "text": [
            "RSI strategy Profit: 0\n",
            "Bollinger Bands strategy Profit: 0\n"
          ]
        }
      ],
      "source": [
        "linear_reg_predictions_scaled = linear_regression_res[\"Model\"].predict(X_test)\n",
        "num_features = X_test.shape[1] + 1  # Number of features in X_test plus the predicted price\n",
        "scaler = MinMaxScaler()\n",
        "scaler.fit(np.concatenate((X_train[:, :-1], y_train.reshape(-1, 1)), axis=1))\n",
        "predicted_prices_scaled = np.concatenate((X_test[:, :-1], linear_reg_predictions_scaled.reshape(-1, 1)), axis=1)\n",
        "predicted_prices = scaler.inverse_transform(predicted_prices_scaled)[:, -1]\n",
        "predicted_prices = np.maximum(predicted_prices, 0)\n",
        "predicted_prices_df = pd.DataFrame(predicted_prices, columns=['Predicted_Price'])\n",
        "predicted_prices_df['Short_MA'] = predicted_prices_df['Predicted_Price'].rolling(window=5).mean()\n",
        "predicted_prices_df['Long_MA'] = predicted_prices_df['Predicted_Price'].rolling(window=20).mean()\n",
        "predicted_prices_df.dropna(inplace=True)\n",
        "# print(predicted_prices_df.head())\n",
        "\n",
        "print(\"RSI strategy Profit:\", rsi_strategy(predicted_prices))\n",
        "print(\"Bollinger Bands strategy Profit:\", bollinger_bands_strategy(predicted_prices))"
      ]
    },
    {
      "cell_type": "code",
      "execution_count": 13,
      "metadata": {},
      "outputs": [
        {
          "name": "stdout",
          "output_type": "stream",
          "text": [
            "RSI strategy Profit: 0\n",
            "Bollinger Bands strategy Profit: 0\n"
          ]
        }
      ],
      "source": [
        "random_forest_predictions_scaled = random_forest_regressor_res[\"Model\"].predict(X_test)\n",
        "num_features = X_test.shape[1] + 1  \n",
        "scaler = MinMaxScaler()\n",
        "scaler.fit(np.concatenate((X_train[:, :-1], y_train.reshape(-1, 1)), axis=1))\n",
        "predicted_prices_scaled = np.concatenate((X_test[:, :-1], random_forest_predictions_scaled.reshape(-1, 1)), axis=1)\n",
        "predicted_prices = scaler.inverse_transform(predicted_prices_scaled)[:, -1]\n",
        "predicted_prices = np.maximum(predicted_prices, 0)\n",
        "predicted_prices_df = pd.DataFrame(predicted_prices, columns=['Predicted_Price'])\n",
        "predicted_prices_df['Short_MA'] = predicted_prices_df['Predicted_Price'].rolling(window=5).mean()\n",
        "predicted_prices_df['Long_MA'] = predicted_prices_df['Predicted_Price'].rolling(window=20).mean()\n",
        "predicted_prices_df.dropna(inplace=True)\n",
        "\n",
        "\n",
        "print(\"RSI strategy Profit:\", rsi_strategy(predicted_prices_df['Predicted_Price'].reset_index(drop=True)))\n",
        "print(\"Bollinger Bands strategy Profit:\", bollinger_bands_strategy(predicted_prices))"
      ]
    },
    {
      "cell_type": "markdown",
      "metadata": {},
      "source": [
        "Stock2"
      ]
    },
    {
      "cell_type": "code",
      "execution_count": 14,
      "metadata": {},
      "outputs": [
        {
          "name": "stdout",
          "output_type": "stream",
          "text": [
            "                            open         high          low        close  \\\n",
            "time                                                                      \n",
            "2009-10-20 08:00:00  7131.700195  7157.509766  7123.200195  7145.149902   \n",
            "2009-10-21 08:00:00  7139.060059  7139.290039  7062.069824  7062.089844   \n",
            "2009-10-22 08:00:00  7042.229980  7101.700195  7002.209961  7101.700195   \n",
            "2009-10-25 08:00:00  7133.209961  7207.540039  7131.310059  7188.750000   \n",
            "2009-10-26 08:00:00  7177.479980  7261.759766  7174.229980  7249.549805   \n",
            "\n",
            "                     price_change  price_spread  price_volatility  \\\n",
            "time                                                                \n",
            "2009-10-20 08:00:00           NaN     34.309571         15.085813   \n",
            "2009-10-21 08:00:00    -83.060058     77.220215         44.511043   \n",
            "2009-10-22 08:00:00     39.610351     99.490234         48.709708   \n",
            "2009-10-25 08:00:00     87.049805     76.229980         38.812249   \n",
            "2009-10-26 08:00:00     60.799805     87.529786         46.360298   \n",
            "\n",
            "                     price_trend  close_sma_5  close_sma_10  close_ema_10  \n",
            "time                                                                       \n",
            "2009-10-20 08:00:00            1          NaN           NaN   7145.149902  \n",
            "2009-10-21 08:00:00            0          NaN           NaN   7130.048073  \n",
            "2009-10-22 08:00:00            1          NaN           NaN   7124.893914  \n",
            "2009-10-25 08:00:00            1          NaN           NaN   7136.504111  \n",
            "2009-10-26 08:00:00            1  7149.447949           NaN   7157.057874  \n",
            "\u001b[1m33/33\u001b[0m \u001b[32m━━━━━━━━━━━━━━━━━━━━\u001b[0m\u001b[37m\u001b[0m \u001b[1m1s\u001b[0m 2ms/step \n",
            "RSI strategy Profit: 4789.731663864815\n",
            "Bollinger Bands strategy Profit with Random Forrest: 0\n"
          ]
        }
      ],
      "source": [
        "data2 = stock2\n",
        "\n",
        "\n",
        "data2 = convert_time_and_set_index(data2)\n",
        "data2=add_features(data2)\n",
        "\n",
        "print(data2.head())\n",
        "data2.dropna(inplace=True)\n",
        "scaler, scaled_data = normalize_data(data2.values)\n",
        "\n",
        "X, y = split_data(scaled_data)\n",
        "\n",
        "X_train, X_test, y_train, y_test = train_test_split(X, y, test_size=0.3, random_state=42)\n",
        "# random_forest_predictions_scaled = random_forest_regressor_res[\"Model\"].predict(X_test)\n",
        "# num_features = X_test.shape[1] + 1  \n",
        "# scaler = MinMaxScaler()\n",
        "# scaler.fit(np.concatenate((X_train[:, :-1], y_train.reshape(-1, 1)), axis=1))\n",
        "# predicted_prices_scaled = np.concatenate((X_test[:, :-1], random_forest_predictions_scaled.reshape(-1, 1)), axis=1)\n",
        "# predicted_prices = scaler.inverse_transform(predicted_prices_scaled)[:, -1]\n",
        "# predicted_prices = np.maximum(predicted_prices, 0)\n",
        "# predicted_prices_df = pd.DataFrame(predicted_prices, columns=['Predicted_Price'])\n",
        "# predicted_prices_df['Short_MA'] = predicted_prices_df['Predicted_Price'].rolling(window=50).mean()\n",
        "# predicted_prices_df['Long_MA'] = predicted_prices_df['Predicted_Price'].rolling(window=200).mean()\n",
        "# predicted_prices_df.dropna(inplace=True)\n",
        "\n",
        "lstm_predictions_scaled = lstm_regression_model_res[\"Model\"].predict(X_test.reshape(X_test.shape[0], X_test.shape[1], 1))\n",
        "num_features = X_test.shape[1] + 1  \n",
        "scaler = MinMaxScaler()\n",
        "scaler.fit(np.concatenate((X_train[:, :-1], y_train.reshape(-1, 1)), axis=1))\n",
        "predicted_prices_scaled = np.concatenate((X_test[:, :-1], lstm_predictions_scaled), axis=1)\n",
        "predicted_prices = scaler.inverse_transform(predicted_prices_scaled)[:, -1]\n",
        "predicted_prices = np.maximum(predicted_prices, 0)\n",
        "predicted_prices_df = pd.DataFrame(predicted_prices, columns=['Predicted_Price'])\n",
        "predicted_prices_df['Short_MA'] = predicted_prices_df['Predicted_Price'].rolling(window=50).mean()\n",
        "predicted_prices_df['Long_MA'] = predicted_prices_df['Predicted_Price'].rolling(window=200).mean()\n",
        "predicted_prices_df.dropna(inplace=True)\n",
        "# print(predicted_prices_df.head())\n",
        "\n",
        "print(\"RSI strategy Profit:\",rsi_strategy(predicted_prices))\n",
        "\n",
        "print(\"Bollinger Bands strategy Profit with Random Forrest:\", bollinger_bands_strategy(predicted_prices_df['Predicted_Price'].reset_index(drop=True)))"
      ]
    },
    {
      "cell_type": "markdown",
      "metadata": {},
      "source": [
        "Stock 3: This dataset did not present any profits except with LSTM "
      ]
    },
    {
      "cell_type": "code",
      "execution_count": 15,
      "metadata": {},
      "outputs": [
        {
          "name": "stdout",
          "output_type": "stream",
          "text": [
            "                     open  high  low  close\n",
            "time                                       \n",
            "2015-03-05 08:00:00   1.0   1.0  1.0    1.0\n",
            "2015-03-08 08:00:00   1.0   1.0  1.0    1.0\n",
            "2015-03-09 08:00:00   1.0   1.0  1.0    1.0\n",
            "2015-03-10 08:00:00   1.0   1.0  1.0    1.0\n",
            "2015-03-11 08:00:00   1.0   1.0  1.0    1.0\n",
            "\u001b[1m21/21\u001b[0m \u001b[32m━━━━━━━━━━━━━━━━━━━━\u001b[0m\u001b[37m\u001b[0m \u001b[1m0s\u001b[0m 3ms/step\n",
            "Bollinger Bands strategy Profit with Random Forrest: 158306.9427685526\n",
            "RSI strategy Profit: 2339.2548405400703\n"
          ]
        }
      ],
      "source": [
        "data3 = stock3\n",
        "\n",
        "\n",
        "data3 = convert_time_and_set_index(data3)\n",
        "print(data3.head())\n",
        "data3.dropna(inplace=True)\n",
        "scaler, scaled_data = normalize_data(data3.values)\n",
        "\n",
        "X, y = split_data(scaled_data)\n",
        "\n",
        "X_train, X_test, y_train, y_test = train_test_split(X, y, test_size=0.3, random_state=42)\n",
        "\n",
        "lstm_predictions_scaled = lstm_regression_model_res[\"Model\"].predict(X_test.reshape(X_test.shape[0], X_test.shape[1], 1))\n",
        "num_features = X_test.shape[1] + 1  \n",
        "scaler = MinMaxScaler()\n",
        "scaler.fit(np.concatenate((X_train[:, :-1], y_train.reshape(-1, 1)), axis=1))\n",
        "predicted_prices_scaled = np.concatenate((X_test[:, :-1], lstm_predictions_scaled), axis=1)\n",
        "predicted_prices = scaler.inverse_transform(predicted_prices_scaled)[:, -1]\n",
        "predicted_prices = np.maximum(predicted_prices, 0)\n",
        "predicted_prices_df = pd.DataFrame(predicted_prices, columns=['Predicted_Price'])\n",
        "predicted_prices_df['Short_MA'] = predicted_prices_df['Predicted_Price'].rolling(window=5).mean()\n",
        "predicted_prices_df['Long_MA'] = predicted_prices_df['Predicted_Price'].rolling(window=20).mean()\n",
        "predicted_prices_df.dropna(inplace=True)\n",
        "# print(predicted_prices_df.head())\n",
        "\n",
        "\n",
        "print(\"Bollinger Bands strategy Profit with Random Forrest:\", bollinger_bands_strategy(predicted_prices_df['Predicted_Price'].reset_index(drop=True)))\n",
        "print(\"RSI strategy Profit:\", rsi_strategy(predicted_prices_df['Predicted_Price'].reset_index(drop=True)))"
      ]
    },
    {
      "cell_type": "markdown",
      "metadata": {},
      "source": [
        "Stock 4"
      ]
    },
    {
      "cell_type": "code",
      "execution_count": null,
      "metadata": {},
      "outputs": [],
      "source": [
        "data4 = stock4\n",
        "\n",
        "\n",
        "# data4 = convert_time_and_set_index(data4)\n",
        "data4 = add_features(data4)\n",
        "print(data4.head())\n",
        "data4.dropna(inplace=True)\n",
        "scaler, scaled_data = normalize_data(data4.values)\n",
        "\n",
        "X, y = split_data(scaled_data)\n",
        "\n",
        "X_train, X_test, y_train, y_test = train_test_split(X, y, test_size=0.3, random_state=42)\n",
        "random_forest_predictions_scaled = random_forest_regressor_res[\"Model\"].predict(X_test)\n",
        "num_features = X_test.shape[1] + 1  \n",
        "scaler = MinMaxScaler()\n",
        "scaler.fit(np.concatenate((X_train[:, :-1], y_train.reshape(-1, 1)), axis=1))\n",
        "predicted_prices_scaled = np.concatenate((X_test[:, :-1], random_forest_predictions_scaled.reshape(-1, 1)), axis=1)\n",
        "predicted_prices = scaler.inverse_transform(predicted_prices_scaled)[:, -1]\n",
        "predicted_prices = np.maximum(predicted_prices, 0)\n",
        "predicted_prices_df = pd.DataFrame(predicted_prices, columns=['Predicted_Price'])\n",
        "predicted_prices_df['Short_MA'] = predicted_prices_df['Predicted_Price'].rolling(window=5).mean()\n",
        "predicted_prices_df['Long_MA'] = predicted_prices_df['Predicted_Price'].rolling(window=20).mean()\n",
        "predicted_prices_df.dropna(inplace=True)\n",
        "\n",
        "\n",
        "\n",
        "\n",
        "print(\"Bollinger Bands strategy Profit with Random Forrest:\", bollinger_bands_strategy(predicted_prices_df['Predicted_Price'].reset_index(drop=True)))\n",
        "print(\"RSI strategy Profit:\", rsi_strategy(predicted_prices_df['Predicted_Price'].reset_index(drop=True)))"
      ]
    },
    {
      "cell_type": "code",
      "execution_count": null,
      "metadata": {},
      "outputs": [
        {
          "ename": "NameError",
          "evalue": "name 'hslkmxjik' is not defined",
          "output_type": "error",
          "traceback": [
            "\u001b[1;31m---------------------------------------------------------------------------\u001b[0m",
            "\u001b[1;31mNameError\u001b[0m                                 Traceback (most recent call last)",
            "Cell \u001b[1;32mIn[298], line 1\u001b[0m\n\u001b[1;32m----> 1\u001b[0m hslkmxjik\n",
            "\u001b[1;31mNameError\u001b[0m: name 'hslkmxjik' is not defined"
          ]
        }
      ],
      "source": [
        "hslkmxjik"
      ]
    },
    {
      "cell_type": "markdown",
      "metadata": {},
      "source": [
        "## Hyperparameter tuning"
      ]
    },
    {
      "cell_type": "code",
      "execution_count": null,
      "metadata": {},
      "outputs": [
        {
          "name": "stdout",
          "output_type": "stream",
          "text": [
            "Fitting 5 folds for each of 108 candidates, totalling 540 fits\n",
            "Best parameters: {'max_depth': 20, 'min_samples_leaf': 2, 'min_samples_split': 2, 'n_estimators': 300}\n",
            "Test MSE: 1.0892290564775233e-05\n"
          ]
        }
      ],
      "source": [
        "from sklearn.ensemble import RandomForestRegressor\n",
        "from sklearn.model_selection import GridSearchCV\n",
        "\n",
        "# Define the parameter grid to search\n",
        "param_grid = {\n",
        "    'n_estimators': [100, 200, 300],  # Number of trees in the forest\n",
        "    'max_depth': [None, 10, 20, 30],   # Maximum depth of the trees\n",
        "    'min_samples_split': [2, 5, 10],   # Minimum number of samples required to split an internal node\n",
        "    'min_samples_leaf': [1, 2, 4]      # Minimum number of samples required to be at a leaf node\n",
        "}\n",
        "\n",
        "# Create a Random Forest regressor instance\n",
        "rf_regressor = RandomForestRegressor()\n",
        "\n",
        "# Create Grid Search CV instance\n",
        "grid_search = GridSearchCV(estimator=rf_regressor, param_grid=param_grid, cv=5, scoring='neg_mean_squared_error', verbose=1, n_jobs=-1)\n",
        "\n",
        "# Fit the Grid Search to the training data\n",
        "grid_search.fit(X_train, y_train)\n",
        "\n",
        "# Get the best parameters\n",
        "best_params = grid_search.best_params_\n",
        "print(\"Best parameters:\", best_params)\n",
        "\n",
        "# Get the best estimator\n",
        "best_rf_model = grid_search.best_estimator_\n",
        "\n",
        "# Evaluate the best model on the test set\n",
        "test_predictions = best_rf_model.predict(X_test)\n",
        "mse = mean_squared_error(y_test, test_predictions)\n",
        "print(\"Test MSE:\", mse)\n"
      ]
    },
    {
      "cell_type": "code",
      "execution_count": null,
      "metadata": {},
      "outputs": [
        {
          "data": {
            "text/html": [
              "<style>#sk-container-id-1 {color: black;}#sk-container-id-1 pre{padding: 0;}#sk-container-id-1 div.sk-toggleable {background-color: white;}#sk-container-id-1 label.sk-toggleable__label {cursor: pointer;display: block;width: 100%;margin-bottom: 0;padding: 0.3em;box-sizing: border-box;text-align: center;}#sk-container-id-1 label.sk-toggleable__label-arrow:before {content: \"▸\";float: left;margin-right: 0.25em;color: #696969;}#sk-container-id-1 label.sk-toggleable__label-arrow:hover:before {color: black;}#sk-container-id-1 div.sk-estimator:hover label.sk-toggleable__label-arrow:before {color: black;}#sk-container-id-1 div.sk-toggleable__content {max-height: 0;max-width: 0;overflow: hidden;text-align: left;background-color: #f0f8ff;}#sk-container-id-1 div.sk-toggleable__content pre {margin: 0.2em;color: black;border-radius: 0.25em;background-color: #f0f8ff;}#sk-container-id-1 input.sk-toggleable__control:checked~div.sk-toggleable__content {max-height: 200px;max-width: 100%;overflow: auto;}#sk-container-id-1 input.sk-toggleable__control:checked~label.sk-toggleable__label-arrow:before {content: \"▾\";}#sk-container-id-1 div.sk-estimator input.sk-toggleable__control:checked~label.sk-toggleable__label {background-color: #d4ebff;}#sk-container-id-1 div.sk-label input.sk-toggleable__control:checked~label.sk-toggleable__label {background-color: #d4ebff;}#sk-container-id-1 input.sk-hidden--visually {border: 0;clip: rect(1px 1px 1px 1px);clip: rect(1px, 1px, 1px, 1px);height: 1px;margin: -1px;overflow: hidden;padding: 0;position: absolute;width: 1px;}#sk-container-id-1 div.sk-estimator {font-family: monospace;background-color: #f0f8ff;border: 1px dotted black;border-radius: 0.25em;box-sizing: border-box;margin-bottom: 0.5em;}#sk-container-id-1 div.sk-estimator:hover {background-color: #d4ebff;}#sk-container-id-1 div.sk-parallel-item::after {content: \"\";width: 100%;border-bottom: 1px solid gray;flex-grow: 1;}#sk-container-id-1 div.sk-label:hover label.sk-toggleable__label {background-color: #d4ebff;}#sk-container-id-1 div.sk-serial::before {content: \"\";position: absolute;border-left: 1px solid gray;box-sizing: border-box;top: 0;bottom: 0;left: 50%;z-index: 0;}#sk-container-id-1 div.sk-serial {display: flex;flex-direction: column;align-items: center;background-color: white;padding-right: 0.2em;padding-left: 0.2em;position: relative;}#sk-container-id-1 div.sk-item {position: relative;z-index: 1;}#sk-container-id-1 div.sk-parallel {display: flex;align-items: stretch;justify-content: center;background-color: white;position: relative;}#sk-container-id-1 div.sk-item::before, #sk-container-id-1 div.sk-parallel-item::before {content: \"\";position: absolute;border-left: 1px solid gray;box-sizing: border-box;top: 0;bottom: 0;left: 50%;z-index: -1;}#sk-container-id-1 div.sk-parallel-item {display: flex;flex-direction: column;z-index: 1;position: relative;background-color: white;}#sk-container-id-1 div.sk-parallel-item:first-child::after {align-self: flex-end;width: 50%;}#sk-container-id-1 div.sk-parallel-item:last-child::after {align-self: flex-start;width: 50%;}#sk-container-id-1 div.sk-parallel-item:only-child::after {width: 0;}#sk-container-id-1 div.sk-dashed-wrapped {border: 1px dashed gray;margin: 0 0.4em 0.5em 0.4em;box-sizing: border-box;padding-bottom: 0.4em;background-color: white;}#sk-container-id-1 div.sk-label label {font-family: monospace;font-weight: bold;display: inline-block;line-height: 1.2em;}#sk-container-id-1 div.sk-label-container {text-align: center;}#sk-container-id-1 div.sk-container {/* jupyter's `normalize.less` sets `[hidden] { display: none; }` but bootstrap.min.css set `[hidden] { display: none !important; }` so we also need the `!important` here to be able to override the default hidden behavior on the sphinx rendered scikit-learn.org. See: https://github.com/scikit-learn/scikit-learn/issues/21755 */display: inline-block !important;position: relative;}#sk-container-id-1 div.sk-text-repr-fallback {display: none;}</style><div id=\"sk-container-id-1\" class=\"sk-top-container\"><div class=\"sk-text-repr-fallback\"><pre>Ridge(alpha=0.1)</pre><b>In a Jupyter environment, please rerun this cell to show the HTML representation or trust the notebook. <br />On GitHub, the HTML representation is unable to render, please try loading this page with nbviewer.org.</b></div><div class=\"sk-container\" hidden><div class=\"sk-item\"><div class=\"sk-estimator sk-toggleable\"><input class=\"sk-toggleable__control sk-hidden--visually\" id=\"sk-estimator-id-1\" type=\"checkbox\" checked><label for=\"sk-estimator-id-1\" class=\"sk-toggleable__label sk-toggleable__label-arrow\">Ridge</label><div class=\"sk-toggleable__content\"><pre>Ridge(alpha=0.1)</pre></div></div></div></div></div>"
            ],
            "text/plain": [
              "Ridge(alpha=0.1)"
            ]
          },
          "execution_count": 264,
          "metadata": {},
          "output_type": "execute_result"
        }
      ],
      "source": [
        "from sklearn.linear_model import Ridge\n",
        "from sklearn.model_selection import GridSearchCV\n",
        "\n",
        "ridge_regression = Ridge()\n",
        "param_grid = {'alpha': [0.1, 1, 10]}  # Adjust the values as needed\n",
        "grid_search = GridSearchCV(ridge_regression, param_grid, cv=5, scoring='neg_mean_squared_error')\n",
        "grid_search.fit(X_train, y_train)\n",
        "\n",
        "# Get the best parameters\n",
        "best_alpha = grid_search.best_params_['alpha']\n",
        "ridge_regression = Ridge(alpha=best_alpha)\n",
        "ridge_regression.fit(X_train, y_train)\n"
      ]
    }
  ],
  "metadata": {
    "colab": {
      "provenance": []
    },
    "kernelspec": {
      "display_name": "Python 3",
      "name": "python3"
    },
    "language_info": {
      "codemirror_mode": {
        "name": "ipython",
        "version": 3
      },
      "file_extension": ".py",
      "mimetype": "text/x-python",
      "name": "python",
      "nbconvert_exporter": "python",
      "pygments_lexer": "ipython3",
      "version": "3.11.5"
    }
  },
  "nbformat": 4,
  "nbformat_minor": 0
}
